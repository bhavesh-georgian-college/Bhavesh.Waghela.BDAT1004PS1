{
 "cells": [
  {
   "cell_type": "markdown",
   "id": "3b87e56d",
   "metadata": {},
   "source": [
    "Question 1 C#\n",
    "What data type is each of the following?\n",
    "5 - is of type 'int'.\n",
    "5.0 - is of type 'double'.\n",
    "5 > 1 - is of type 'bool'.\n",
    "'5' - is of type 'char'.\n",
    "5 * 2 - is of type 'int'.\n",
    "'5' * 2 - will result in a compile-time error, as you cannot multiply a 'char' with an 'int'.\n",
    "'5' + '2' - will result in a compile-time error, as you cannot add two 'char' values.\n",
    "5 / 2 - is of type 'double'.\n",
    "5 % 2 - is of type 'int'.\n",
    "{5, 2, 1} - array of int values so type is int[]\n",
    "5 == 3 - is of type 'bool'.\n",
    "Pi (the number) - is of type 'double'. However, Pi is not a predefined type in C#, \n",
    "                  you would have to define it yourself or use a library that defines it, such as 'System.Math'"
   ]
  },
  {
   "cell_type": "markdown",
   "id": "6e5dcee7",
   "metadata": {},
   "source": [
    "Question 2 C#\n",
    "Write (and evaluate) C# expressions that answer these questions:\n",
    "a. How many letters are there in 'Supercalifragilisticexpialidocious'?"
   ]
  },
  {
   "cell_type": "code",
   "execution_count": null,
   "id": "ee66c83d",
   "metadata": {},
   "outputs": [],
   "source": [
    "string word = \"Supercalifragilisticexpialidocious\";\n",
    "int letterCount = word.Length;\n",
    "Console.WriteLine(\"The word '\" + word + \"' has \" + letterCount + \" letters.\");"
   ]
  },
  {
   "cell_type": "markdown",
   "id": "1d7d6c81",
   "metadata": {},
   "source": [
    "b. Does 'Supercalifragilisticexpialidocious' contain 'ice' as a substring?"
   ]
  },
  {
   "cell_type": "code",
   "execution_count": null,
   "id": "732cc206",
   "metadata": {},
   "outputs": [],
   "source": [
    "string word = \"Supercalifragilisticexpialidocious\";\n",
    "bool containsSubstring = word.Contains(\"ice\");\n",
    "Console.WriteLine(\"The word '\" + word + \"' \" + (containsSubstring ? \"contains\" : \"does not contain\") + \" the substring 'ice'.\");"
   ]
  },
  {
   "cell_type": "code",
   "execution_count": null,
   "id": "20898985",
   "metadata": {},
   "outputs": [],
   "source": [
    "c. Which of the following words is the longest:\n",
    "Supercalifragilisticexpialidocious, \n",
    "Honorificabilitudinitatibus, or\n",
    "Bababadalgharaghtakamminarronnkonn?"
   ]
  },
  {
   "cell_type": "code",
   "execution_count": null,
   "id": "a124b99c",
   "metadata": {},
   "outputs": [],
   "source": [
    "string[] words = new string[] { \"Supercalifragilisticexpialidocious\", \"Honorificabilitudinitatibus\", \"Bababadalgharaghtakamminarronnkonn\" };\n",
    "int longestLength = 0;\n",
    "string longestWord = \"\";\n",
    "\n",
    "foreach (string word in words)\n",
    "{\n",
    "    if (word.Length > longestLength)\n",
    "    {\n",
    "        longestLength = word.Length;\n",
    "        longestWord = word;\n",
    "    }\n",
    "}\n",
    "\n",
    "Console.WriteLine(\"The longest word is '\" + longestWord + \"' with a length of \" + longestLength + \" letters.\");"
   ]
  },
  {
   "cell_type": "markdown",
   "id": "36bdcfd1",
   "metadata": {},
   "source": [
    "d. Which composer comes first in the dictionary: 'Berlioz', 'Borodin', 'Brian',\n",
    "'Bartok', 'Bellini', 'Buxtehude', 'Bernstein'. Which one comes last?"
   ]
  },
  {
   "cell_type": "code",
   "execution_count": null,
   "id": "b4662407",
   "metadata": {},
   "outputs": [],
   "source": [
    "string[] composers = new string[] { \"Berlioz\", \"Borodin\", \"Brian\", \"Bartok\", \"Bellini\", \"Buxtehude\", \"Bernstein\" };\n",
    "Array.Sort(composers);\n",
    "\n",
    "Console.WriteLine(\"The first composer in the dictionary order is '\" + composers[0] + \"'.\");\n",
    "Console.WriteLine(\"The last composer in the dictionary order is '\" + composers[composers.Length - 1] + \"'.\");\n"
   ]
  },
  {
   "cell_type": "markdown",
   "id": "f577dfc5",
   "metadata": {},
   "source": [
    "Question 3 C# \n",
    "Implement function triangleArea(a,b,c) that takes as input the lengths of the 3\n",
    "sides of a triangle and returns the area of the triangle. By Heron's formula, the area\n",
    "of a triangle with side lengths a, b, and c is s(s − a)(s −b)(s −c), where\n",
    "s = (a + b + c)/2.\n",
    ">>> triangleArea(2,2,2)\n",
    "1.7320508075688772"
   ]
  },
  {
   "cell_type": "code",
   "execution_count": null,
   "id": "3352a59f",
   "metadata": {},
   "outputs": [],
   "source": [
    "double triangleArea(double a, double b, double c)\n",
    "{\n",
    "    double s = (a + b + c) / 2;\n",
    "    double area = Math.Sqrt(s * (s - a) * (s - b) * (s - c));\n",
    "    return area;\n",
    "}\n",
    "\n",
    "Console.WriteLine(\"The area of the triangle with sides 2, 2, and 2 is \" + triangleArea(2, 2, 2));\n"
   ]
  },
  {
   "cell_type": "markdown",
   "id": "83bb63cc",
   "metadata": {},
   "source": [
    "Question 4 C#\n",
    "Write a program in C# Sharp to separate odd and even integers in separate arrays.\n",
    "Go to the editor\n",
    "Test Data :\n",
    "Input the number of elements to be stored in the array :5\n",
    "Input 5 elements in the array :\n",
    "element - 0 : 25\n",
    "element - 1 : 47\n",
    "element - 2 : 42\n",
    "element - 3 : 56\n",
    "element - 4 : 32\n",
    "Expected Output:\n",
    "The Even elements are:\n",
    "42 56 32\n",
    "The Odd elements are : \n",
    "25 47"
   ]
  },
  {
   "cell_type": "code",
   "execution_count": null,
   "id": "b9e8b412",
   "metadata": {},
   "outputs": [],
   "source": [
    "int[] numbers = new int[] { 25, 47, 42, 56, 32 };\n",
    "List<int> evenNumbers = new List<int>();\n",
    "List<int> oddNumbers = new List<int>();\n",
    "\n",
    "foreach (int number in numbers)\n",
    "{\n",
    "    if (number % 2 == 0)\n",
    "    {\n",
    "        evenNumbers.Add(number);\n",
    "    }\n",
    "    else\n",
    "    {\n",
    "        oddNumbers.Add(number);\n",
    "    }\n",
    "}\n",
    "\n",
    "Console.WriteLine(\"The even numbers are: \" + string.Join(\", \", evenNumbers));\n",
    "Console.WriteLine(\"The odd numbers are: \" + string.Join(\", \", oddNumbers));"
   ]
  },
  {
   "cell_type": "markdown",
   "id": "8488d3e8",
   "metadata": {},
   "source": [
    "Question 5 C#\n",
    "a. Write a function inside(x,y,x1,y1,x2,y2) that returns True or False\n",
    "dependingonwhetherthepoint(x,y)liesintherectanglewithlowerleft\n",
    "corner (x1,y1) and upper right corner (x2,y2).\n",
    ">>> inside(1,1,0,0,2,3)\n",
    "True\n",
    ">>> inside(-1,-1,0,0,2,3)\n",
    "False"
   ]
  },
  {
   "cell_type": "code",
   "execution_count": null,
   "id": "6e368f15",
   "metadata": {},
   "outputs": [],
   "source": [
    "bool inside(int x, int y, int x1, int y1, int x2, int y2)\n",
    "{\n",
    "    if (x >= x1 && x <= x2 && y >= y1 && y <= y2)\n",
    "    {\n",
    "        return true;\n",
    "    }\n",
    "    else\n",
    "    {\n",
    "        return false;\n",
    "    }\n",
    "}\n",
    "\n",
    "Console.WriteLine(inside(1, 1, 0, 0, 2, 3));\n",
    "Console.WriteLine(inside(-1, -1, 0, 0, 2, 3));"
   ]
  },
  {
   "cell_type": "markdown",
   "id": "13b9969a",
   "metadata": {},
   "source": [
    "b. Use function inside()from part a. to write an expression that tests whether\n",
    "the point (1,1) lies in both of the following rectangles: one with lower left\n",
    "corner (0.3, 0.5) and upper right corner (1.1, 0.7) and the other with lower\n",
    "left corner (0.5, 0.2) and upper right corner (1.1, 2)."
   ]
  },
  {
   "cell_type": "code",
   "execution_count": null,
   "id": "e3e5cccb",
   "metadata": {},
   "outputs": [],
   "source": [
    "bool inside2(double x, double y, double x1, double x2, double y1, double y2, double x11, double y11, double x22, double y22)\n",
    "{\n",
    "    if (((x >= x1 && x <= x2) && (y >= y1 && y <= y2)) && ((x > x11 && x < x22) && (y > y11 && y < y22)))\n",
    "    {\n",
    "        return true;\n",
    "    }\n",
    "    else\n",
    "    {\n",
    "        return false;\n",
    "    }\n",
    "    \n",
    "}\n",
    "\n",
    "bool result = inside2(1, 1, 0.3, 0.5, 1.1, 0.7, 0.5, 0.2, 1.1, 2);\n",
    "Console.WriteLine(\"The point (1,1) lies in both rectangles: \" + result);"
   ]
  },
  {
   "cell_type": "markdown",
   "id": "a08dc487",
   "metadata": {},
   "source": [
    "Question 6 Python\n",
    "16. You can turn a word into pig-Latin using the following two rules(simplified):\n",
    "• If the word starts with a consonant, move that letter to the end and append\n",
    "'ay'. For example, 'happy' becomes 'appyhay' and 'pencil' becomes 'encilpay'.\n",
    "• If the word starts with a vowel, simply append 'way' to the end of the word.\n",
    "For example, 'enter' becomes 'enterway' and 'other' becomes 'otherway' . For\n",
    "our purposes, there are 5 vowels: a, e, i, o, u (so we count y as a consonant).\n",
    "Write a function pig() that takes a word (i.e., a string) as input and returns its pigLatin form. Your function should still work if the input word contains upper case\n",
    "characters. Your output should always be lower case however.\n",
    ">>> pig('happy')\n",
    "'appyhay'\n",
    ">>> pig('Enter')\n",
    "'enterway"
   ]
  },
  {
   "cell_type": "code",
   "execution_count": 3,
   "id": "07ec2049",
   "metadata": {},
   "outputs": [],
   "source": [
    "def pig(word):\n",
    "    vowels = \"aeiou\"\n",
    "    if word[0].lower() in vowels:\n",
    "        return word.lower() + \"way\"\n",
    "    else:\n",
    "        return word[1:].lower() + word[0].lower() + \"ay\""
   ]
  },
  {
   "cell_type": "code",
   "execution_count": 4,
   "id": "b2092119",
   "metadata": {},
   "outputs": [
    {
     "data": {
      "text/plain": [
       "'appyhay'"
      ]
     },
     "execution_count": 4,
     "metadata": {},
     "output_type": "execute_result"
    }
   ],
   "source": [
    "pig(\"happy\")"
   ]
  },
  {
   "cell_type": "code",
   "execution_count": 5,
   "id": "4beffd91",
   "metadata": {},
   "outputs": [
    {
     "data": {
      "text/plain": [
       "'otherway'"
      ]
     },
     "execution_count": 5,
     "metadata": {},
     "output_type": "execute_result"
    }
   ],
   "source": [
    "pig(\"other\")"
   ]
  },
  {
   "cell_type": "code",
   "execution_count": 6,
   "id": "3e6b33d6",
   "metadata": {},
   "outputs": [
    {
     "data": {
      "text/plain": [
       "'haveshbay'"
      ]
     },
     "execution_count": 6,
     "metadata": {},
     "output_type": "execute_result"
    }
   ],
   "source": [
    "pig(\"bhavesh\")"
   ]
  },
  {
   "cell_type": "markdown",
   "id": "4fb5a990",
   "metadata": {},
   "source": [
    "Q7. File bloodtype1.txt records blood-types of patients (A, B, AB, O or OO) at a clinic.\n",
    "Write a function bldcount() that reads the file with name name and reports (i.e.,\n",
    "prints) how many patients there are in each bloodtype.\n",
    ">>> bldcount('bloodtype.txt')\n",
    "There are 10 patients of blood type A.\n",
    "There is one patient of blood type B.\n",
    "There are 10 patients of blood type AB.\n",
    "There are 12 patients of blood type O.\n",
    "There are no patients of blood type OO."
   ]
  },
  {
   "cell_type": "code",
   "execution_count": 7,
   "id": "f24152b3",
   "metadata": {},
   "outputs": [
    {
     "name": "stdout",
     "output_type": "stream",
     "text": [
      "dict_keys(['AB', 'B', 'O', 'A'])\n",
      "dict_values([13, 1, 15, 15])\n"
     ]
    }
   ],
   "source": [
    "from collections import Counter\n",
    "\n",
    "with open(\"bloodtype1.txt\") as f:\n",
    "        words = []\n",
    "        for line in f:\n",
    "            line_words = line.strip().split()\n",
    "            words.extend(line_words)\n",
    "            \n",
    "        print(Counter(words).keys()) # equals to list(set(words))\n",
    "        print(Counter(words).values()) # counts the elements' frequency   "
   ]
  },
  {
   "cell_type": "markdown",
   "id": "6211c668",
   "metadata": {},
   "source": [
    "Question 8 Python\n",
    "Write a function curconv() that takes as input:\n",
    "1. a currency represented using a string (e.g., 'JPY' for the Japanese Yen or\n",
    "'EUR' for the Euro)\n",
    "2. an amount\n",
    "and then converts and returns the amount in US dollars.\n",
    ">>> curconv('EUR', 100)\n",
    "122.96544\n",
    ">>> curconv('JPY', 100)\n",
    "1.241401\n",
    "The currency rates you will need are stored in file currencies.txt:"
   ]
  },
  {
   "cell_type": "code",
   "execution_count": 8,
   "id": "6034836e",
   "metadata": {},
   "outputs": [
    {
     "name": "stdout",
     "output_type": "stream",
     "text": [
      "Below are the final rates based on currency conversion :\n",
      "122.96544\n",
      "1.241401\n"
     ]
    }
   ],
   "source": [
    "def currencyconversion(currency,amount):\n",
    "# read the file containing the currency rates\n",
    "    with open(\"currencies.txt\") as f:\n",
    "        data = f.readlines()\n",
    "        # create a dictionary to store the currency rates\n",
    "        rates = {}\n",
    "        for line in data:\n",
    "            rates[line[:3].strip()] = line[4:].split(\"\\t\")\n",
    "        # calculate the amount in US dollars using the currency rate\n",
    "        value = rates[currency][0].strip()\n",
    "        final_rate = amount * float(value)\n",
    "        return final_rate\n",
    "print(\"Below are the final rates based on currency conversion :\") \n",
    "print(currencyconversion('EUR', 100))\n",
    "print(currencyconversion('JPY', 100))"
   ]
  },
  {
   "cell_type": "markdown",
   "id": "88be9459",
   "metadata": {},
   "source": [
    "Question 9 Python\n",
    "Each of the following will cause an exception (an error). Identify what type of\n",
    "exception each will cause.\n",
    "\n",
    "1. Trying to add incompatible variables, as in adding 6 + ‘a’\n",
    "\n",
    "Exception : TypeError: unsupported operand type(s) for +: 'int' and 'str'\n",
    "\n",
    "2. Referring to the 12th item of a list that has only 10 items\n",
    "\n",
    "Exception : IndexError: list index out of range\n",
    "\n",
    "3. Using a value that is out ofrange for a function’s input, such as calling math.sqrt(-1.0)\n",
    "\n",
    "Exception : ValueError: math domain error\n",
    "\n",
    "4. Using an undeclared variable, such as print(x) when x has not been defined\n",
    "\n",
    "Exception : NameError: name 'x' is not defined\n",
    "\n",
    "5. Trying to open a file that does not exist, such as mistyping the file name or looking in the wrong directory.\n",
    "\n",
    "Exception : FileNotFoundError: [Errno 2] No such file or directory: 'missing_file.txt'"
   ]
  },
  {
   "cell_type": "markdown",
   "id": "0b317921",
   "metadata": {},
   "source": [
    "Question 10 Python\n",
    "Encryption is the process of hiding the meaning of a text by substituting letters in the\n",
    "message with other letters, according to some system. If the process is successful, no\n",
    "one but the intended recipient can understand the encrypted message. Cryptanalysis\n",
    "refers to attempts to undo the encryption, even if some details of the encryption are\n",
    "unknown (for example, if an encrypted message has been intercepted). The first step\n",
    "of cryptanalysis is often to build up a table of letter frequencies in the encrypted text.\n",
    "Assume that the string letters is already defined as\n",
    "'abcdefghijklmnopqrstuvwxyz'. Write a function called frequencies()\n",
    "that takes a string as its only parameter, and returns a list of integers, showing the\n",
    "number of times each character appears in the text. Your function may ignore any\n",
    "characters that are not in letters.\n",
    ">>> frequencies('The quick red fox got bored and went home.')\n",
    "[1, 1, 1, 3, 5, 1, 1, 2, 1, 0, 1, 0, 1, 2, 4, 0, 1, 2, 0, 2,\n",
    "1, 0, 1, 1, 0, 0]\n",
    ">>> frequencies('apple')"
   ]
  },
  {
   "cell_type": "code",
   "execution_count": 9,
   "id": "b4eb0e52",
   "metadata": {},
   "outputs": [
    {
     "data": {
      "text/plain": [
       "[1, 1, 1, 3, 5, 1, 1, 2, 1, 0, 1, 0, 1, 2, 4, 0, 1, 2, 0, 2, 1, 0, 1, 1, 0, 0]"
      ]
     },
     "execution_count": 9,
     "metadata": {},
     "output_type": "execute_result"
    }
   ],
   "source": [
    "def frequencies(text):\n",
    "    letters = 'abcdefghijklmnopqrstuvwxyz'\n",
    "    frequency_list = [0] * 26\n",
    "    \n",
    "    for char in text:\n",
    "        if char in letters:\n",
    "            frequency_list[letters.index(char)] += 1\n",
    "    \n",
    "    return frequency_list\n",
    "frequencies('The quick red fox got bored and went home.')"
   ]
  },
  {
   "cell_type": "code",
   "execution_count": null,
   "id": "2690fad9",
   "metadata": {},
   "outputs": [],
   "source": []
  }
 ],
 "metadata": {
  "kernelspec": {
   "display_name": "Python 3 (ipykernel)",
   "language": "python",
   "name": "python3"
  },
  "language_info": {
   "codemirror_mode": {
    "name": "ipython",
    "version": 3
   },
   "file_extension": ".py",
   "mimetype": "text/x-python",
   "name": "python",
   "nbconvert_exporter": "python",
   "pygments_lexer": "ipython3",
   "version": "3.9.13"
  }
 },
 "nbformat": 4,
 "nbformat_minor": 5
}
